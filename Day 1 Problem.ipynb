{
 "cells": [
  {
   "cell_type": "markdown",
   "metadata": {
    "collapsed": false
   },
   "source": [
    "# <span style='background :beige'><span style='font-family:\"Times New Roman\"'>Estimate the transportation cost to enable migrants to reach their home town.</span>"
   ]
  },
  {
   "cell_type": "markdown",
   "metadata": {
    "collapsed": false
   },
   "source": [
    "## <span style='background :bisque'><span style='font-family:\"Times New Roman\"'>Importing Necessary Libraries</span>"
   ]
  },
  {
   "cell_type": "code",
   "execution_count": 3,
   "metadata": {
    "collapsed": false
   },
   "outputs": [
   ],
   "source": [
    "import pandas as pd\n",
    "import matplotlib.pyplot as plt\n",
    "import seaborn as sns\n",
    "import statsmodels.api as sm\n",
    "from sklearn.model_selection import train_test_split\n",
    "from sklearn.linear_model import LinearRegression\n",
    "sns.set()"
   ]
  },
  {
   "cell_type": "markdown",
   "metadata": {
    "collapsed": false
   },
   "source": [
    "### <span style='background :lemonchiffon'><span style='font-family:\"Times New Roman\"'>Collecting Raw Datasets from Kaggle:\n",
    "### <span style='font-family:\"Times New Roman\"'>A subsidiary of Google LLC, is an online community of data scientists and machine learning practitioners.\n",
    "### <span style='font-family:\"Times New Roman\"'>Step 1: Taking care of Missing Data in Dataset. ...\n",
    "### <span style='font-family:\"Times New Roman\"'>Step 2: Arranging the Data with proper attributes required to estimate cost.\n",
    "### <span style='font-family:\"Times New Roman\"'>Step 3: Merging different datasets \n",
    "### <span style='font-family:\"Times New Roman\"'>Step 4: Data pre-processing \n",
    "## <span style='background :bisque'><span style='font-family:\"Times New Roman\"'>Loading the Datasets</span>"
   ]
  },
  {
   "cell_type": "code",
   "execution_count": 4,
   "metadata": {
    "collapsed": false,
    "scrolled": true
   },
   "outputs": [
    {
     "data": {
      "text/html": [
       "<div>\n",
       "<style scoped>\n",
       "    .dataframe tbody tr th:only-of-type {\n",
       "        vertical-align: middle;\n",
       "    }\n",
       "\n",
       "    .dataframe tbody tr th {\n",
       "        vertical-align: top;\n",
       "    }\n",
       "\n",
       "    .dataframe thead th {\n",
       "        text-align: right;\n",
       "    }\n",
       "</style>\n",
       "<table border=\"1\" class=\"dataframe\">\n",
       "  <thead>\n",
       "    <tr style=\"text-align: right;\">\n",
       "      <th></th>\n",
       "      <th>Number of Migrants</th>\n",
       "      <th>Current Destination</th>\n",
       "      <th>Distance (in miles)</th>\n",
       "    </tr>\n",
       "  </thead>\n",
       "  <tbody>\n",
       "    <tr>\n",
       "      <th>0</th>\n",
       "      <td>140</td>\n",
       "      <td>Andaman and Nicobar Islands</td>\n",
       "      <td>75.000</td>\n",
       "    </tr>\n",
       "    <tr>\n",
       "      <th>1</th>\n",
       "      <td>267</td>\n",
       "      <td>Andaman and Nicobar Islands</td>\n",
       "      <td>406.250</td>\n",
       "    </tr>\n",
       "    <tr>\n",
       "      <th>2</th>\n",
       "      <td>284</td>\n",
       "      <td>Andaman and Nicobar Islands</td>\n",
       "      <td>450.000</td>\n",
       "    </tr>\n",
       "    <tr>\n",
       "      <th>3</th>\n",
       "      <td>375</td>\n",
       "      <td>Andaman and Nicobar Islands</td>\n",
       "      <td>87.500</td>\n",
       "    </tr>\n",
       "    <tr>\n",
       "      <th>4</th>\n",
       "      <td>667</td>\n",
       "      <td>Andaman and Nicobar Islands</td>\n",
       "      <td>200.000</td>\n",
       "    </tr>\n",
       "    <tr>\n",
       "      <th>5</th>\n",
       "      <td>726</td>\n",
       "      <td>Andaman and Nicobar Islands</td>\n",
       "      <td>447.500</td>\n",
       "    </tr>\n",
       "    <tr>\n",
       "      <th>6</th>\n",
       "      <td>180</td>\n",
       "      <td>Andhra Pradesh</td>\n",
       "      <td>73.125</td>\n",
       "    </tr>\n",
       "    <tr>\n",
       "      <th>7</th>\n",
       "      <td>637</td>\n",
       "      <td>Andhra Pradesh</td>\n",
       "      <td>375.000</td>\n",
       "    </tr>\n",
       "    <tr>\n",
       "      <th>8</th>\n",
       "      <td>695</td>\n",
       "      <td>Andhra Pradesh</td>\n",
       "      <td>410.625</td>\n",
       "    </tr>\n",
       "    <tr>\n",
       "      <th>9</th>\n",
       "      <td>695</td>\n",
       "      <td>Andhra Pradesh</td>\n",
       "      <td>409.375</td>\n",
       "    </tr>\n",
       "    <tr>\n",
       "      <th>10</th>\n",
       "      <td>875</td>\n",
       "      <td>Andhra Pradesh</td>\n",
       "      <td>520.000</td>\n",
       "    </tr>\n",
       "    <tr>\n",
       "      <th>11</th>\n",
       "      <td>105</td>\n",
       "      <td>Andhra Pradesh</td>\n",
       "      <td>62.500</td>\n",
       "    </tr>\n",
       "    <tr>\n",
       "      <th>12</th>\n",
       "      <td>116</td>\n",
       "      <td>Andhra Pradesh</td>\n",
       "      <td>68.750</td>\n",
       "    </tr>\n",
       "    <tr>\n",
       "      <th>13</th>\n",
       "      <td>202</td>\n",
       "      <td>Andhra Pradesh</td>\n",
       "      <td>123.125</td>\n",
       "    </tr>\n",
       "    <tr>\n",
       "      <th>14</th>\n",
       "      <td>202</td>\n",
       "      <td>Andhra Pradesh</td>\n",
       "      <td>77.500</td>\n",
       "    </tr>\n",
       "    <tr>\n",
       "      <th>15</th>\n",
       "      <td>214</td>\n",
       "      <td>Andhra Pradesh</td>\n",
       "      <td>127.500</td>\n",
       "    </tr>\n",
       "    <tr>\n",
       "      <th>16</th>\n",
       "      <td>269</td>\n",
       "      <td>Andhra Pradesh</td>\n",
       "      <td>164.375</td>\n",
       "    </tr>\n",
       "    <tr>\n",
       "      <th>17</th>\n",
       "      <td>307</td>\n",
       "      <td>Andhra Pradesh</td>\n",
       "      <td>187.500</td>\n",
       "    </tr>\n",
       "    <tr>\n",
       "      <th>18</th>\n",
       "      <td>357</td>\n",
       "      <td>Andhra Pradesh</td>\n",
       "      <td>218.125</td>\n",
       "    </tr>\n",
       "    <tr>\n",
       "      <th>19</th>\n",
       "      <td>415</td>\n",
       "      <td>Andhra Pradesh</td>\n",
       "      <td>253.750</td>\n",
       "    </tr>\n",
       "    <tr>\n",
       "      <th>20</th>\n",
       "      <td>480</td>\n",
       "      <td>Andhra Pradesh</td>\n",
       "      <td>294.375</td>\n",
       "    </tr>\n",
       "  </tbody>\n",
       "</table>\n",
       "</div>"
      ],
      "text/plain": [
       "    Number of Migrants          Current Destination  Distance (in miles)\n",
       "0                  140  Andaman and Nicobar Islands               75.000\n",
       "1                  267  Andaman and Nicobar Islands              406.250\n",
       "2                  284  Andaman and Nicobar Islands              450.000\n",
       "3                  375  Andaman and Nicobar Islands               87.500\n",
       "4                  667  Andaman and Nicobar Islands              200.000\n",
       "5                  726  Andaman and Nicobar Islands              447.500\n",
       "6                  180               Andhra Pradesh               73.125\n",
       "7                  637               Andhra Pradesh              375.000\n",
       "8                  695               Andhra Pradesh              410.625\n",
       "9                  695               Andhra Pradesh              409.375\n",
       "10                 875               Andhra Pradesh              520.000\n",
       "11                 105               Andhra Pradesh               62.500\n",
       "12                 116               Andhra Pradesh               68.750\n",
       "13                 202               Andhra Pradesh              123.125\n",
       "14                 202               Andhra Pradesh               77.500\n",
       "15                 214               Andhra Pradesh              127.500\n",
       "16                 269               Andhra Pradesh              164.375\n",
       "17                 307               Andhra Pradesh              187.500\n",
       "18                 357               Andhra Pradesh              218.125\n",
       "19                 415               Andhra Pradesh              253.750\n",
       "20                 480               Andhra Pradesh              294.375"
      ]
     },
     "execution_count": 4,
     "metadata": {
     },
     "output_type": "execute_result"
    }
   ],
   "source": [
    "data1=pd.read_csv(r\"Neccesary Data-Files/newdata.csv\")\n",
    "data2=pd.read_csv(r\"Neccesary Data-Files/StatewiseList.csv\")\n",
    "data1.head(21)"
   ]
  },
  {
   "cell_type": "markdown",
   "metadata": {
    "collapsed": false
   },
   "source": [
    "![](pic3.png)"
   ]
  },
  {
   "cell_type": "markdown",
   "metadata": {
    "collapsed": false
   },
   "source": [
    "<ol>\n",
    "    \n",
    "### <li><span style='font-family:\"Times New Roman\"'>Creating major stations in each State/Territory.</li>\n",
    "### <li><span style='font-family:\"Times New Roman\"'>Migrants can assemble at their nearest listed station.</li>\n",
    "### <li><span style='font-family:\"Times New Roman\"'>Migrants can travel to their desired nearest listed station.</li>\n",
    "</ol>"
   ]
  },
  {
   "cell_type": "code",
   "execution_count": 5,
   "metadata": {
    "collapsed": false
   },
   "outputs": [
    {
     "data": {
      "text/html": [
       "<div>\n",
       "<style scoped>\n",
       "    .dataframe tbody tr th:only-of-type {\n",
       "        vertical-align: middle;\n",
       "    }\n",
       "\n",
       "    .dataframe tbody tr th {\n",
       "        vertical-align: top;\n",
       "    }\n",
       "\n",
       "    .dataframe thead th {\n",
       "        text-align: right;\n",
       "    }\n",
       "</style>\n",
       "<table border=\"1\" class=\"dataframe\">\n",
       "  <thead>\n",
       "    <tr style=\"text-align: right;\">\n",
       "      <th></th>\n",
       "      <th>State/Territory</th>\n",
       "      <th>Number of Migrants</th>\n",
       "    </tr>\n",
       "  </thead>\n",
       "  <tbody>\n",
       "    <tr>\n",
       "      <th>0</th>\n",
       "      <td>Andaman and Nicobar Islands</td>\n",
       "      <td>2459</td>\n",
       "    </tr>\n",
       "    <tr>\n",
       "      <th>1</th>\n",
       "      <td>Andhra Pradesh</td>\n",
       "      <td>15805</td>\n",
       "    </tr>\n",
       "    <tr>\n",
       "      <th>2</th>\n",
       "      <td>Arunachal Pradesh</td>\n",
       "      <td>15991</td>\n",
       "    </tr>\n",
       "    <tr>\n",
       "      <th>3</th>\n",
       "      <td>Assam</td>\n",
       "      <td>15946</td>\n",
       "    </tr>\n",
       "    <tr>\n",
       "      <th>4</th>\n",
       "      <td>Bihar</td>\n",
       "      <td>19170</td>\n",
       "    </tr>\n",
       "    <tr>\n",
       "      <th>5</th>\n",
       "      <td>Chandigarh</td>\n",
       "      <td>15631</td>\n",
       "    </tr>\n",
       "    <tr>\n",
       "      <th>6</th>\n",
       "      <td>Chhattisgarh</td>\n",
       "      <td>14465</td>\n",
       "    </tr>\n",
       "    <tr>\n",
       "      <th>7</th>\n",
       "      <td>Dadra and Nagar Haveli and Daman and Diu</td>\n",
       "      <td>9473</td>\n",
       "    </tr>\n",
       "    <tr>\n",
       "      <th>8</th>\n",
       "      <td>Delhi</td>\n",
       "      <td>16904</td>\n",
       "    </tr>\n",
       "    <tr>\n",
       "      <th>9</th>\n",
       "      <td>Goa</td>\n",
       "      <td>16755</td>\n",
       "    </tr>\n",
       "    <tr>\n",
       "      <th>10</th>\n",
       "      <td>Gujarat</td>\n",
       "      <td>16654</td>\n",
       "    </tr>\n",
       "    <tr>\n",
       "      <th>11</th>\n",
       "      <td>Haryana</td>\n",
       "      <td>24162</td>\n",
       "    </tr>\n",
       "    <tr>\n",
       "      <th>12</th>\n",
       "      <td>Himachal Pradesh</td>\n",
       "      <td>17236</td>\n",
       "    </tr>\n",
       "    <tr>\n",
       "      <th>13</th>\n",
       "      <td>Jammu and Kashmir</td>\n",
       "      <td>18737</td>\n",
       "    </tr>\n",
       "  </tbody>\n",
       "</table>\n",
       "</div>"
      ],
      "text/plain": [
       "                             State/Territory  Number of Migrants\n",
       "0                Andaman and Nicobar Islands                2459\n",
       "1                             Andhra Pradesh               15805\n",
       "2                          Arunachal Pradesh               15991\n",
       "3                                      Assam               15946\n",
       "4                                      Bihar               19170\n",
       "5                                 Chandigarh               15631\n",
       "6                               Chhattisgarh               14465\n",
       "7   Dadra and Nagar Haveli and Daman and Diu                9473\n",
       "8                                      Delhi               16904\n",
       "9                                        Goa               16755\n",
       "10                                   Gujarat               16654\n",
       "11                                   Haryana               24162\n",
       "12                          Himachal Pradesh               17236\n",
       "13                         Jammu and Kashmir               18737"
      ]
     },
     "execution_count": 5,
     "metadata": {
     },
     "output_type": "execute_result"
    }
   ],
   "source": [
    "data2.head(14)"
   ]
  },
  {
   "cell_type": "markdown",
   "metadata": {
    "collapsed": false
   },
   "source": [
    "## <span style='background :bisque'><span style='font-family:\"Times New Roman\"'>Visualising Probability Distribution Curve for different states</span>\n",
    "### <span style='font-family:\"Times New Roman\"'>Distance in miles</span>"
   ]
  },
  {
   "cell_type": "code",
   "execution_count": 9,
   "metadata": {
    "collapsed": false
   },
   "outputs": [
    {
     "data": {
      "text/plain": [
       "count     49.000000\n",
       "mean     216.007653\n",
       "std      164.049594\n",
       "min       62.500000\n",
       "25%       91.875000\n",
       "50%      131.250000\n",
       "75%      319.375000\n",
       "max      591.250000\n",
       "Name: Distance (in miles), dtype: float64"
      ]
     },
     "execution_count": 9,
     "metadata": {
     },
     "output_type": "execute_result"
    },
    {
     "data": {
      "image/png": "[encoded data removed]",
      "text/plain": [
       "<Figure size 576x288 with 1 Axes>"
      ]
     },
     "execution_count": 9,
     "metadata": {
     },
     "output_type": "execute_result"
    }
   ],
   "source": [
    "#Probability Distribution Function of Uttar Pradesh ('Distance in miles')\n",
    "plt.figure(figsize=(8,4))\n",
    "sns.kdeplot(data=data1['Distance (in miles)'].loc[data1['Current Destination']=='Uttar Pradesh'],shade=True)\n",
    "plt.title(\"Uttar Pradesh\",size=20)\n",
    "plt.xlabel(\"Distance (in miles) to Hometown\",size=20)\n",
    "data1['Distance (in miles)'].loc[data1['Current Destination']=='Uttar Pradesh'].describe()"
   ]
  },
  {
   "cell_type": "code",
   "execution_count": 0,
   "metadata": {
    "collapsed": false
   },
   "outputs": [
   ],
   "source": [
   ]
  },
  {
   "cell_type": "code",
   "execution_count": 10,
   "metadata": {
    "collapsed": false
   },
   "outputs": [
    {
     "data": {
      "text/plain": [
       "count     50.000000\n",
       "mean     197.412500\n",
       "std      133.822637\n",
       "min       62.500000\n",
       "25%      103.125000\n",
       "50%      149.375000\n",
       "75%      221.875000\n",
       "max      563.125000\n",
       "Name: Distance (in miles), dtype: float64"
      ]
     },
     "execution_count": 10,
     "metadata": {
     },
     "output_type": "execute_result"
    },
    {
     "data": {
      "image/png": "[encoded data removed]",
      "text/plain": [
       "<Figure size 576x288 with 1 Axes>"
      ]
     },
     "execution_count": 10,
     "metadata": {
     },
     "output_type": "execute_result"
    }
   ],
   "source": [
    "#Probability Distribution Function of Rajasthan ('Distance in Miles')\n",
    "plt.figure(figsize=(8,4))\n",
    "sns.kdeplot(data=data1['Distance (in miles)'].loc[data1['Current Destination']=='Rajasthan'],shade=True,color='Green')\n",
    "plt.title(\"Rajasthan\",size=20)\n",
    "plt.xlabel(\"Distance (in miles) to Hometown\",size=20)\n",
    "data1['Distance (in miles)'].loc[data1['Current Destination']=='Rajasthan'].describe()"
   ]
  },
  {
   "cell_type": "code",
   "execution_count": 11,
   "metadata": {
    "collapsed": false
   },
   "outputs": [
    {
     "data": {
      "text/plain": [
       "count     50.000000\n",
       "mean     252.575000\n",
       "std      161.843042\n",
       "min       62.500000\n",
       "25%      112.656250\n",
       "50%      205.000000\n",
       "75%      379.218750\n",
       "max      595.625000\n",
       "Name: Distance (in miles), dtype: float64"
      ]
     },
     "execution_count": 11,
     "metadata": {
     },
     "output_type": "execute_result"
    },
    {
     "data": {
      "image/png": "[encoded data removed]",
      "text/plain": [
       "<Figure size 576x288 with 1 Axes>"
      ]
     },
     "execution_count": 11,
     "metadata": {
     },
     "output_type": "execute_result"
    }
   ],
   "source": [
    "#Probability Distribution Function of Madhya Pradesh ('Distance in Miles')\n",
    "plt.figure(figsize=(8,4))\n",
    "sns.kdeplot(data=data1['Distance (in miles)'].loc[data1['Current Destination']=='Madhya Pradesh'],shade=True,color='Orange')\n",
    "plt.title(\"Madhya Pradesh\",size=20)\n",
    "plt.xlabel(\"Distance (in miles) to Hometown\",size=20)\n",
    "data1['Distance (in miles)'].loc[data1['Current Destination']=='Madhya Pradesh'].describe()"
   ]
  },
  {
   "cell_type": "markdown",
   "metadata": {
    "collapsed": false
   },
   "source": [
    "### <span style='font-family:\"Times New Roman\"'>Step 1: Creating 3 common destinations at major locations of the curve ...\n",
    "### <span style='font-family:\"Times New Roman\"'>Step 2: Classifying the migrants population on 3 basis : 25%   50%   75% ...\n",
    "### <span style='font-family:\"Times New Roman\"'>Step 3: Estimating the transportation cost ...\n",
    "### <span style='font-family:\"Times New Roman\"'>Step 4: Creating new dataset ..."
   ]
  },
  {
   "cell_type": "code",
   "execution_count": 6,
   "metadata": {
    "collapsed": false
   },
   "outputs": [
   ],
   "source": [
    "col=[]\n",
    "for i in data1['Current Destination'].unique():\n",
    "    x=[]\n",
    "    x.append(data1['Distance (in miles)'].loc[data1['Current Destination']==i].describe()[4])\n",
    "    x.append(data1['Distance (in miles)'].loc[data1['Current Destination']==i].describe()[5])\n",
    "    x.append(data1['Distance (in miles)'].loc[data1['Current Destination']==i].describe()[6])\n",
    "    col.append(x)\n",
    "data3=pd.DataFrame()\n",
    "data3['Number of Migrants']=data2['Number of Migrants']\n",
    "data3['Current Destination']=data1['Current Destination'].unique()\n",
    "data3['Common Destinations (in miles)']=col\n",
    "col2=[]\n",
    "for w in range (35):\n",
    "    a=data3['Number of Migrants']*0.25*data3['Common Destinations (in miles)'].loc[w][0]*0.6\n",
    "    b=data3['Number of Migrants']*0.50*data3['Common Destinations (in miles)'].loc[w][1]*0.6\n",
    "    c=data3['Number of Migrants']*0.25*data3['Common Destinations (in miles)'].loc[w][2]*0.6\n",
    "    col2.append(a+b+c)\n",
    "data3['Transportation Cost']=col2"
   ]
  },
  {
   "cell_type": "code",
   "execution_count": 7,
   "metadata": {
    "collapsed": false
   },
   "outputs": [
    {
     "data": {
      "text/html": [
       "<div>\n",
       "<style scoped>\n",
       "    .dataframe tbody tr th:only-of-type {\n",
       "        vertical-align: middle;\n",
       "    }\n",
       "\n",
       "    .dataframe tbody tr th {\n",
       "        vertical-align: top;\n",
       "    }\n",
       "\n",
       "    .dataframe thead th {\n",
       "        text-align: right;\n",
       "    }\n",
       "</style>\n",
       "<table border=\"1\" class=\"dataframe\">\n",
       "  <thead>\n",
       "    <tr style=\"text-align: right;\">\n",
       "      <th></th>\n",
       "      <th>Number of Migrants</th>\n",
       "      <th>Current Destination</th>\n",
       "      <th>Common Destinations (in miles)</th>\n",
       "      <th>Transportation Cost</th>\n",
       "    </tr>\n",
       "  </thead>\n",
       "  <tbody>\n",
       "    <tr>\n",
       "      <th>0</th>\n",
       "      <td>2459</td>\n",
       "      <td>Andaman and Nicobar Islands</td>\n",
       "      <td>[115.625, 303.125, 437.1875]</td>\n",
       "      <td>0     4.275202e+05\n",
       "1     2.747847e+06\n",
       "2     2....</td>\n",
       "    </tr>\n",
       "    <tr>\n",
       "      <th>1</th>\n",
       "      <td>15805</td>\n",
       "      <td>Andhra Pradesh</td>\n",
       "      <td>[97.65625, 156.5625, 284.21875]</td>\n",
       "      <td>0      256350.75\n",
       "1     1647671.25\n",
       "2     166706...</td>\n",
       "    </tr>\n",
       "    <tr>\n",
       "      <th>2</th>\n",
       "      <td>15991</td>\n",
       "      <td>Arunachal Pradesh</td>\n",
       "      <td>[158.75, 253.125, 353.75]</td>\n",
       "      <td>0     3.757659e+05\n",
       "1     2.415202e+06\n",
       "2     2....</td>\n",
       "    </tr>\n",
       "    <tr>\n",
       "      <th>3</th>\n",
       "      <td>15946</td>\n",
       "      <td>Assam</td>\n",
       "      <td>[165.3125, 237.8125, 330.15625]</td>\n",
       "      <td>0     3.581879e+05\n",
       "1     2.302221e+06\n",
       "2     2....</td>\n",
       "    </tr>\n",
       "    <tr>\n",
       "      <th>4</th>\n",
       "      <td>19170</td>\n",
       "      <td>Bihar</td>\n",
       "      <td>[136.875, 136.875, 136.875]</td>\n",
       "      <td>0      201945.375\n",
       "1     1297985.625\n",
       "2     1313...</td>\n",
       "    </tr>\n",
       "    <tr>\n",
       "      <th>5</th>\n",
       "      <td>15631</td>\n",
       "      <td>Chandigarh</td>\n",
       "      <td>[119.0625, 164.375, 225.0]</td>\n",
       "      <td>0     2.481669e+05\n",
       "1     1.595070e+06\n",
       "2     1....</td>\n",
       "    </tr>\n",
       "    <tr>\n",
       "      <th>6</th>\n",
       "      <td>14465</td>\n",
       "      <td>Chhattisgarh</td>\n",
       "      <td>[129.21875, 211.875, 308.90625]</td>\n",
       "      <td>0     3.179026e+05\n",
       "1     2.043290e+06\n",
       "2     2....</td>\n",
       "    </tr>\n",
       "    <tr>\n",
       "      <th>7</th>\n",
       "      <td>9473</td>\n",
       "      <td>Dadra and Nagar Haveli and Daman and Diu</td>\n",
       "      <td>[165.3125, 270.0, 334.0625]</td>\n",
       "      <td>0     3.833735e+05\n",
       "1     2.464098e+06\n",
       "2     2....</td>\n",
       "    </tr>\n",
       "    <tr>\n",
       "      <th>8</th>\n",
       "      <td>16904</td>\n",
       "      <td>Delhi</td>\n",
       "      <td>[136.875, 136.875, 136.875]</td>\n",
       "      <td>0      201945.375\n",
       "1     1297985.625\n",
       "2     1313...</td>\n",
       "    </tr>\n",
       "    <tr>\n",
       "      <th>9</th>\n",
       "      <td>16755</td>\n",
       "      <td>Goa</td>\n",
       "      <td>[136.875, 136.875, 136.875]</td>\n",
       "      <td>0      201945.375\n",
       "1     1297985.625\n",
       "2     1313...</td>\n",
       "    </tr>\n",
       "    <tr>\n",
       "      <th>10</th>\n",
       "      <td>16654</td>\n",
       "      <td>Gujarat</td>\n",
       "      <td>[87.1875, 154.375, 336.5625]</td>\n",
       "      <td>0      270182.625\n",
       "1     1736574.375\n",
       "2     1757...</td>\n",
       "    </tr>\n",
       "    <tr>\n",
       "      <th>11</th>\n",
       "      <td>24162</td>\n",
       "      <td>Haryana</td>\n",
       "      <td>[142.96875, 235.3125, 430.3125]</td>\n",
       "      <td>0     3.850448e+05\n",
       "1     2.474841e+06\n",
       "2     2....</td>\n",
       "    </tr>\n",
       "    <tr>\n",
       "      <th>12</th>\n",
       "      <td>17236</td>\n",
       "      <td>Himachal Pradesh</td>\n",
       "      <td>[100.0, 165.625, 380.625]</td>\n",
       "      <td>0     2.994601e+05\n",
       "1     1.924753e+06\n",
       "2     1....</td>\n",
       "    </tr>\n",
       "    <tr>\n",
       "      <th>13</th>\n",
       "      <td>18737</td>\n",
       "      <td>Jammu and Kashmir</td>\n",
       "      <td>[95.0, 209.375, 366.25]</td>\n",
       "      <td>0      324588.0\n",
       "1     2086260.0\n",
       "2     2110812....</td>\n",
       "    </tr>\n",
       "    <tr>\n",
       "      <th>14</th>\n",
       "      <td>14397</td>\n",
       "      <td>Jharkhand</td>\n",
       "      <td>[104.6875, 181.25, 267.1875]</td>\n",
       "      <td>0     2.708742e+05\n",
       "1     1.741020e+06\n",
       "2     1....</td>\n",
       "    </tr>\n",
       "    <tr>\n",
       "      <th>15</th>\n",
       "      <td>19692</td>\n",
       "      <td>Karnataka</td>\n",
       "      <td>[94.21875, 167.1875, 412.34375]</td>\n",
       "      <td>0     3.101798e+05\n",
       "1     1.993653e+06\n",
       "2     2....</td>\n",
       "    </tr>\n",
       "    <tr>\n",
       "      <th>16</th>\n",
       "      <td>19436</td>\n",
       "      <td>Kerala</td>\n",
       "      <td>[120.0, 201.875, 305.0]</td>\n",
       "      <td>0     3.056844e+05\n",
       "1     1.964759e+06\n",
       "2     1....</td>\n",
       "    </tr>\n",
       "    <tr>\n",
       "      <th>17</th>\n",
       "      <td>10460</td>\n",
       "      <td>Ladakh</td>\n",
       "      <td>[121.875, 241.25, 303.125]</td>\n",
       "      <td>0      334731.375\n",
       "1     2151455.625\n",
       "2     2176...</td>\n",
       "    </tr>\n",
       "    <tr>\n",
       "      <th>18</th>\n",
       "      <td>20742</td>\n",
       "      <td>Madhya Pradesh</td>\n",
       "      <td>[112.65625, 205.0, 379.21875]</td>\n",
       "      <td>0     3.326566e+05\n",
       "1     2.138120e+06\n",
       "2     2....</td>\n",
       "    </tr>\n",
       "    <tr>\n",
       "      <th>19</th>\n",
       "      <td>16280</td>\n",
       "      <td>Maharashtra</td>\n",
       "      <td>[105.3125, 145.625, 230.78125]</td>\n",
       "      <td>0     2.313957e+05\n",
       "1     1.487275e+06\n",
       "2     1....</td>\n",
       "    </tr>\n",
       "    <tr>\n",
       "      <th>20</th>\n",
       "      <td>6081</td>\n",
       "      <td>Manipur</td>\n",
       "      <td>[136.875, 136.875, 136.875]</td>\n",
       "      <td>0      201945.375\n",
       "1     1297985.625\n",
       "2     1313...</td>\n",
       "    </tr>\n",
       "  </tbody>\n",
       "</table>\n",
       "</div>"
      ],
      "text/plain": [
       "    Number of Migrants                       Current Destination  \\\n",
       "0                 2459               Andaman and Nicobar Islands   \n",
       "1                15805                            Andhra Pradesh   \n",
       "2                15991                         Arunachal Pradesh   \n",
       "3                15946                                     Assam   \n",
       "4                19170                                     Bihar   \n",
       "5                15631                                Chandigarh   \n",
       "6                14465                              Chhattisgarh   \n",
       "7                 9473  Dadra and Nagar Haveli and Daman and Diu   \n",
       "8                16904                                     Delhi   \n",
       "9                16755                                       Goa   \n",
       "10               16654                                   Gujarat   \n",
       "11               24162                                   Haryana   \n",
       "12               17236                          Himachal Pradesh   \n",
       "13               18737                         Jammu and Kashmir   \n",
       "14               14397                                 Jharkhand   \n",
       "15               19692                                 Karnataka   \n",
       "16               19436                                    Kerala   \n",
       "17               10460                                    Ladakh   \n",
       "18               20742                            Madhya Pradesh   \n",
       "19               16280                               Maharashtra   \n",
       "20                6081                                   Manipur   \n",
       "\n",
       "     Common Destinations (in miles)  \\\n",
       "0      [115.625, 303.125, 437.1875]   \n",
       "1   [97.65625, 156.5625, 284.21875]   \n",
       "2         [158.75, 253.125, 353.75]   \n",
       "3   [165.3125, 237.8125, 330.15625]   \n",
       "4       [136.875, 136.875, 136.875]   \n",
       "5        [119.0625, 164.375, 225.0]   \n",
       "6   [129.21875, 211.875, 308.90625]   \n",
       "7       [165.3125, 270.0, 334.0625]   \n",
       "8       [136.875, 136.875, 136.875]   \n",
       "9       [136.875, 136.875, 136.875]   \n",
       "10     [87.1875, 154.375, 336.5625]   \n",
       "11  [142.96875, 235.3125, 430.3125]   \n",
       "12        [100.0, 165.625, 380.625]   \n",
       "13          [95.0, 209.375, 366.25]   \n",
       "14     [104.6875, 181.25, 267.1875]   \n",
       "15  [94.21875, 167.1875, 412.34375]   \n",
       "16          [120.0, 201.875, 305.0]   \n",
       "17       [121.875, 241.25, 303.125]   \n",
       "18    [112.65625, 205.0, 379.21875]   \n",
       "19   [105.3125, 145.625, 230.78125]   \n",
       "20      [136.875, 136.875, 136.875]   \n",
       "\n",
       "                                  Transportation Cost  \n",
       "0   0     4.275202e+05\n",
       "1     2.747847e+06\n",
       "2     2....  \n",
       "1   0      256350.75\n",
       "1     1647671.25\n",
       "2     166706...  \n",
       "2   0     3.757659e+05\n",
       "1     2.415202e+06\n",
       "2     2....  \n",
       "3   0     3.581879e+05\n",
       "1     2.302221e+06\n",
       "2     2....  \n",
       "4   0      201945.375\n",
       "1     1297985.625\n",
       "2     1313...  \n",
       "5   0     2.481669e+05\n",
       "1     1.595070e+06\n",
       "2     1....  \n",
       "6   0     3.179026e+05\n",
       "1     2.043290e+06\n",
       "2     2....  \n",
       "7   0     3.833735e+05\n",
       "1     2.464098e+06\n",
       "2     2....  \n",
       "8   0      201945.375\n",
       "1     1297985.625\n",
       "2     1313...  \n",
       "9   0      201945.375\n",
       "1     1297985.625\n",
       "2     1313...  \n",
       "10  0      270182.625\n",
       "1     1736574.375\n",
       "2     1757...  \n",
       "11  0     3.850448e+05\n",
       "1     2.474841e+06\n",
       "2     2....  \n",
       "12  0     2.994601e+05\n",
       "1     1.924753e+06\n",
       "2     1....  \n",
       "13  0      324588.0\n",
       "1     2086260.0\n",
       "2     2110812....  \n",
       "14  0     2.708742e+05\n",
       "1     1.741020e+06\n",
       "2     1....  \n",
       "15  0     3.101798e+05\n",
       "1     1.993653e+06\n",
       "2     2....  \n",
       "16  0     3.056844e+05\n",
       "1     1.964759e+06\n",
       "2     1....  \n",
       "17  0      334731.375\n",
       "1     2151455.625\n",
       "2     2176...  \n",
       "18  0     3.326566e+05\n",
       "1     2.138120e+06\n",
       "2     2....  \n",
       "19  0     2.313957e+05\n",
       "1     1.487275e+06\n",
       "2     1....  \n",
       "20  0      201945.375\n",
       "1     1297985.625\n",
       "2     1313...  "
      ]
     },
     "execution_count": 7,
     "metadata": {
     },
     "output_type": "execute_result"
    }
   ],
   "source": [
    "data3.head(21)"
   ]
  },
  {
   "cell_type": "markdown",
   "metadata": {
    "collapsed": false
   },
   "source": [
    "### https://www.thehindu.com/news/national/migrant-labourers-are-the-most-disenfranchised-invisible-citizens/article31717502.ece?homepage=true\n",
    "\n",
    "### Workers from different sectors approximation\n",
    "#### sex_workers='4.5 million'\n",
    "#### Total_workers_now =45535360"
   ]
  },
  {
   "cell_type": "code",
   "execution_count": 8,
   "metadata": {
    "collapsed": false
   },
   "outputs": [
    {
     "data": {
      "text/plain": [
       "2199601845.0"
      ]
     },
     "execution_count": 8,
     "metadata": {
     },
     "output_type": "execute_result"
    }
   ],
   "source": [
    "g=data3['Transportation Cost'].sum()\n",
    "g.sum()"
   ]
  },
  {
   "cell_type": "markdown",
   "metadata": {
    "collapsed": false
   },
   "source": [
    "## <span style='background :lemonchiffon'><span style='font-family:\"Times New Roman\"'> Estimating Transportation Cost:\n",
    "## <span style='background :beige'><span style='font-family:\"Times New Roman\"'>2199601845.00 ₹</span>"
   ]
  },
  {
   "cell_type": "markdown",
   "metadata": {
    "collapsed": false
   },
   "source": [
    "### <span style='font-family:\"Times New Roman\"'>Number of Passenger Trains in India: 13452\n",
    "### <span style='font-family:\"Times New Roman\"'>Capacity of One Passenger Train: (72x8) + (90x3) (11 boggies on average considering sleeper + general coach)\n",
    "## <span style='background :bisque'><span style='font-family:\"Times New Roman\"'>Due to Covid-19: Constraint = 1 seat per 3 seats</span>\n",
    "### <span style='font-family:\"Times New Roman\"'>Total_Capacity= 10760*(846/3)=3034320( Assuming 80% of the train would be functional)\n",
    "### <span style='font-family:\"Times New Roman\"'>Number_of_Migrants=535360+some workers from unorganised sector \n",
    "### <span style='font-family:\"Times New Roman\"'>Total_days_to_complete_operation=Total workers/Total_capacity"
   ]
  },
  {
   "cell_type": "code",
   "execution_count": 10,
   "metadata": {
    "collapsed": false
   },
   "outputs": [
    {
     "data": {
      "text/plain": [
       "15"
      ]
     },
     "execution_count": 10,
     "metadata": {
     },
     "output_type": "execute_result"
    }
   ],
   "source": [
    "Total_days_to_complete_operation=45535360/3034320\n",
    "Total_days_to_complete_operation"
   ]
  },
  {
   "cell_type": "markdown",
   "metadata": {
    "collapsed": false
   },
   "source": [
    "## <span style='background :lemonchiffon'><span style='font-family:\"Times New Roman\"'>Estimating Total Duration of Operation: \n",
    "## <span style='background :beige'><span style='font-family:\"Times New Roman\"'>15 Days</span>"
   ]
  },
  {
   "cell_type": "code",
   "execution_count": 0,
   "metadata": {
    "collapsed": false
   },
   "outputs": [
   ],
   "source": [
   ]
  }
 ],
 "metadata": {
  "kernelspec": {
   "display_name": "anaconda_kernel",
   "language": "python",
   "name": "anaconda_kernel"
  },
  "language_info": {
   "codemirror_mode": {
    "name": "ipython",
    "version": 2
   },
   "file_extension": ".py",
   "mimetype": "text/x-python",
   "name": "python",
   "nbconvert_exporter": "python",
   "pygments_lexer": "ipython2",
   "version": "2.7.17"
  }
 },
 "nbformat": 4,
 "nbformat_minor": 0
}