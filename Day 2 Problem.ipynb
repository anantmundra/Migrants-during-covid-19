{
 "cells": [
  {
   "cell_type": "markdown",
   "metadata": {
    "collapsed": false
   },
   "source": [
    "# <span style='background :beige'><span style='font-family:\"Times New Roman\"'>Estimate the total outlay for maintaining them for 100 days in destination.</span>"
   ]
  },
  {
   "cell_type": "markdown",
   "metadata": {
    "collapsed": false
   },
   "source": [
    "## <span style='background :bisque'><span style='font-family:\"Times New Roman\"'>Importing Necessary Libraries</span>"
   ]
  },
  {
   "cell_type": "code",
   "execution_count": 3,
   "metadata": {
    "collapsed": false
   },
   "outputs": [
   ],
   "source": [
    "import pandas as pd\n",
    "import matplotlib.pyplot as plt\n",
    "import seaborn as sns\n",
    "import statsmodels.api as sm\n",
    "from sklearn.model_selection import train_test_split\n",
    "from sklearn.preprocessing import PolynomialFeatures\n",
    "sns.set()"
   ]
  },
  {
   "cell_type": "markdown",
   "metadata": {
    "collapsed": false
   },
   "source": [
    "### <span style='background :lemonchiffon'><span style='font-family:\"Times New Roman\"'>Collecting Raw Datasets from Kaggle:\n",
    "### <span style='font-family:\"Times New Roman\"'>A subsidiary of Google LLC, is an online community of data scientists and machine learning practitioners.\n",
    "### <span style='font-family:\"Times New Roman\"'>Step 1: Taking care of Missing Data in Dataset. ...\n",
    "### <span style='font-family:\"Times New Roman\"'>Step 2: Arranging the Data with proper attributes required to estimate food & medical supply.\n",
    "### <span style='font-family:\"Times New Roman\"'>Step 3: Merging different datasets \n",
    "### <span style='font-family:\"Times New Roman\"'>Step 4: Data pre-processing \n",
    "    \n",
    "    \n",
    "## <span style='background :bisque'><span style='font-family:\"Times New Roman\"'>Loading the Datasets</span>"
   ]
  },
  {
   "cell_type": "code",
   "execution_count": 7,
   "metadata": {
    "collapsed": false
   },
   "outputs": [
    {
     "data": {
      "text/html": [
       "<div>\n",
       "<style scoped>\n",
       "    .dataframe tbody tr th:only-of-type {\n",
       "        vertical-align: middle;\n",
       "    }\n",
       "\n",
       "    .dataframe tbody tr th {\n",
       "        vertical-align: top;\n",
       "    }\n",
       "\n",
       "    .dataframe thead th {\n",
       "        text-align: right;\n",
       "    }\n",
       "</style>\n",
       "<table border=\"1\" class=\"dataframe\">\n",
       "  <thead>\n",
       "    <tr style=\"text-align: right;\">\n",
       "      <th></th>\n",
       "      <th>Date</th>\n",
       "      <th>Status</th>\n",
       "      <th>TT</th>\n",
       "      <th>AN</th>\n",
       "      <th>AP</th>\n",
       "      <th>AR</th>\n",
       "      <th>AS</th>\n",
       "      <th>BR</th>\n",
       "      <th>CH</th>\n",
       "      <th>CT</th>\n",
       "      <th>...</th>\n",
       "      <th>PB</th>\n",
       "      <th>RJ</th>\n",
       "      <th>SK</th>\n",
       "      <th>TN</th>\n",
       "      <th>TG</th>\n",
       "      <th>TR</th>\n",
       "      <th>UP</th>\n",
       "      <th>UT</th>\n",
       "      <th>WB</th>\n",
       "      <th>UN</th>\n",
       "    </tr>\n",
       "  </thead>\n",
       "  <tbody>\n",
       "    <tr>\n",
       "      <th>0</th>\n",
       "      <td>14-Mar-20</td>\n",
       "      <td>Confirmed</td>\n",
       "      <td>81</td>\n",
       "      <td>0</td>\n",
       "      <td>1</td>\n",
       "      <td>0</td>\n",
       "      <td>0</td>\n",
       "      <td>0</td>\n",
       "      <td>0</td>\n",
       "      <td>0</td>\n",
       "      <td>...</td>\n",
       "      <td>1</td>\n",
       "      <td>3</td>\n",
       "      <td>0</td>\n",
       "      <td>1</td>\n",
       "      <td>1</td>\n",
       "      <td>0</td>\n",
       "      <td>12</td>\n",
       "      <td>0</td>\n",
       "      <td>0</td>\n",
       "      <td>0</td>\n",
       "    </tr>\n",
       "    <tr>\n",
       "      <th>1</th>\n",
       "      <td>15-Mar-20</td>\n",
       "      <td>Confirmed</td>\n",
       "      <td>27</td>\n",
       "      <td>0</td>\n",
       "      <td>0</td>\n",
       "      <td>0</td>\n",
       "      <td>0</td>\n",
       "      <td>0</td>\n",
       "      <td>0</td>\n",
       "      <td>0</td>\n",
       "      <td>...</td>\n",
       "      <td>0</td>\n",
       "      <td>1</td>\n",
       "      <td>0</td>\n",
       "      <td>0</td>\n",
       "      <td>2</td>\n",
       "      <td>0</td>\n",
       "      <td>1</td>\n",
       "      <td>0</td>\n",
       "      <td>0</td>\n",
       "      <td>0</td>\n",
       "    </tr>\n",
       "    <tr>\n",
       "      <th>2</th>\n",
       "      <td>16-Mar-20</td>\n",
       "      <td>Confirmed</td>\n",
       "      <td>15</td>\n",
       "      <td>0</td>\n",
       "      <td>0</td>\n",
       "      <td>0</td>\n",
       "      <td>0</td>\n",
       "      <td>0</td>\n",
       "      <td>0</td>\n",
       "      <td>0</td>\n",
       "      <td>...</td>\n",
       "      <td>0</td>\n",
       "      <td>0</td>\n",
       "      <td>0</td>\n",
       "      <td>0</td>\n",
       "      <td>1</td>\n",
       "      <td>0</td>\n",
       "      <td>0</td>\n",
       "      <td>1</td>\n",
       "      <td>0</td>\n",
       "      <td>0</td>\n",
       "    </tr>\n",
       "    <tr>\n",
       "      <th>3</th>\n",
       "      <td>17-Mar-20</td>\n",
       "      <td>Confirmed</td>\n",
       "      <td>11</td>\n",
       "      <td>0</td>\n",
       "      <td>0</td>\n",
       "      <td>0</td>\n",
       "      <td>0</td>\n",
       "      <td>0</td>\n",
       "      <td>0</td>\n",
       "      <td>0</td>\n",
       "      <td>...</td>\n",
       "      <td>0</td>\n",
       "      <td>0</td>\n",
       "      <td>0</td>\n",
       "      <td>0</td>\n",
       "      <td>1</td>\n",
       "      <td>0</td>\n",
       "      <td>2</td>\n",
       "      <td>0</td>\n",
       "      <td>1</td>\n",
       "      <td>0</td>\n",
       "    </tr>\n",
       "    <tr>\n",
       "      <th>4</th>\n",
       "      <td>18-Mar-20</td>\n",
       "      <td>Confirmed</td>\n",
       "      <td>37</td>\n",
       "      <td>0</td>\n",
       "      <td>0</td>\n",
       "      <td>0</td>\n",
       "      <td>0</td>\n",
       "      <td>0</td>\n",
       "      <td>0</td>\n",
       "      <td>0</td>\n",
       "      <td>...</td>\n",
       "      <td>1</td>\n",
       "      <td>3</td>\n",
       "      <td>0</td>\n",
       "      <td>1</td>\n",
       "      <td>8</td>\n",
       "      <td>0</td>\n",
       "      <td>2</td>\n",
       "      <td>1</td>\n",
       "      <td>0</td>\n",
       "      <td>0</td>\n",
       "    </tr>\n",
       "    <tr>\n",
       "      <th>5</th>\n",
       "      <td>19-Mar-20</td>\n",
       "      <td>Confirmed</td>\n",
       "      <td>27</td>\n",
       "      <td>0</td>\n",
       "      <td>2</td>\n",
       "      <td>0</td>\n",
       "      <td>0</td>\n",
       "      <td>0</td>\n",
       "      <td>1</td>\n",
       "      <td>1</td>\n",
       "      <td>...</td>\n",
       "      <td>0</td>\n",
       "      <td>2</td>\n",
       "      <td>0</td>\n",
       "      <td>1</td>\n",
       "      <td>3</td>\n",
       "      <td>0</td>\n",
       "      <td>3</td>\n",
       "      <td>1</td>\n",
       "      <td>0</td>\n",
       "      <td>0</td>\n",
       "    </tr>\n",
       "    <tr>\n",
       "      <th>6</th>\n",
       "      <td>20-Mar-20</td>\n",
       "      <td>Confirmed</td>\n",
       "      <td>58</td>\n",
       "      <td>0</td>\n",
       "      <td>0</td>\n",
       "      <td>0</td>\n",
       "      <td>0</td>\n",
       "      <td>0</td>\n",
       "      <td>4</td>\n",
       "      <td>0</td>\n",
       "      <td>...</td>\n",
       "      <td>1</td>\n",
       "      <td>8</td>\n",
       "      <td>0</td>\n",
       "      <td>0</td>\n",
       "      <td>3</td>\n",
       "      <td>0</td>\n",
       "      <td>4</td>\n",
       "      <td>0</td>\n",
       "      <td>1</td>\n",
       "      <td>0</td>\n",
       "    </tr>\n",
       "    <tr>\n",
       "      <th>7</th>\n",
       "      <td>21-Mar-20</td>\n",
       "      <td>Confirmed</td>\n",
       "      <td>78</td>\n",
       "      <td>0</td>\n",
       "      <td>2</td>\n",
       "      <td>0</td>\n",
       "      <td>0</td>\n",
       "      <td>0</td>\n",
       "      <td>0</td>\n",
       "      <td>0</td>\n",
       "      <td>...</td>\n",
       "      <td>10</td>\n",
       "      <td>7</td>\n",
       "      <td>0</td>\n",
       "      <td>3</td>\n",
       "      <td>2</td>\n",
       "      <td>0</td>\n",
       "      <td>4</td>\n",
       "      <td>0</td>\n",
       "      <td>2</td>\n",
       "      <td>0</td>\n",
       "    </tr>\n",
       "    <tr>\n",
       "      <th>8</th>\n",
       "      <td>22-Mar-20</td>\n",
       "      <td>Confirmed</td>\n",
       "      <td>67</td>\n",
       "      <td>0</td>\n",
       "      <td>1</td>\n",
       "      <td>0</td>\n",
       "      <td>0</td>\n",
       "      <td>2</td>\n",
       "      <td>1</td>\n",
       "      <td>0</td>\n",
       "      <td>...</td>\n",
       "      <td>8</td>\n",
       "      <td>4</td>\n",
       "      <td>0</td>\n",
       "      <td>3</td>\n",
       "      <td>6</td>\n",
       "      <td>0</td>\n",
       "      <td>2</td>\n",
       "      <td>0</td>\n",
       "      <td>3</td>\n",
       "      <td>0</td>\n",
       "    </tr>\n",
       "    <tr>\n",
       "      <th>9</th>\n",
       "      <td>23-Mar-20</td>\n",
       "      <td>Confirmed</td>\n",
       "      <td>102</td>\n",
       "      <td>0</td>\n",
       "      <td>1</td>\n",
       "      <td>0</td>\n",
       "      <td>0</td>\n",
       "      <td>1</td>\n",
       "      <td>1</td>\n",
       "      <td>0</td>\n",
       "      <td>...</td>\n",
       "      <td>2</td>\n",
       "      <td>4</td>\n",
       "      <td>0</td>\n",
       "      <td>3</td>\n",
       "      <td>6</td>\n",
       "      <td>0</td>\n",
       "      <td>2</td>\n",
       "      <td>1</td>\n",
       "      <td>0</td>\n",
       "      <td>0</td>\n",
       "    </tr>\n",
       "  </tbody>\n",
       "</table>\n",
       "<p>10 rows × 41 columns</p>\n",
       "</div>"
      ],
      "text/plain": [
       "        Date     Status   TT  AN  AP  AR  AS  BR  CH  CT  ...  PB  RJ  SK  TN  \\\n",
       "0  14-Mar-20  Confirmed   81   0   1   0   0   0   0   0  ...   1   3   0   1   \n",
       "1  15-Mar-20  Confirmed   27   0   0   0   0   0   0   0  ...   0   1   0   0   \n",
       "2  16-Mar-20  Confirmed   15   0   0   0   0   0   0   0  ...   0   0   0   0   \n",
       "3  17-Mar-20  Confirmed   11   0   0   0   0   0   0   0  ...   0   0   0   0   \n",
       "4  18-Mar-20  Confirmed   37   0   0   0   0   0   0   0  ...   1   3   0   1   \n",
       "5  19-Mar-20  Confirmed   27   0   2   0   0   0   1   1  ...   0   2   0   1   \n",
       "6  20-Mar-20  Confirmed   58   0   0   0   0   0   4   0  ...   1   8   0   0   \n",
       "7  21-Mar-20  Confirmed   78   0   2   0   0   0   0   0  ...  10   7   0   3   \n",
       "8  22-Mar-20  Confirmed   67   0   1   0   0   2   1   0  ...   8   4   0   3   \n",
       "9  23-Mar-20  Confirmed  102   0   1   0   0   1   1   0  ...   2   4   0   3   \n",
       "\n",
       "   TG  TR  UP  UT  WB  UN  \n",
       "0   1   0  12   0   0   0  \n",
       "1   2   0   1   0   0   0  \n",
       "2   1   0   0   1   0   0  \n",
       "3   1   0   2   0   1   0  \n",
       "4   8   0   2   1   0   0  \n",
       "5   3   0   3   1   0   0  \n",
       "6   3   0   4   0   1   0  \n",
       "7   2   0   4   0   2   0  \n",
       "8   6   0   2   0   3   0  \n",
       "9   6   0   2   1   0   0  \n",
       "\n",
       "[10 rows x 41 columns]"
      ]
     },
     "execution_count": 7,
     "metadata": {
     },
     "output_type": "execute_result"
    }
   ],
   "source": [
    "data1=pd.read_csv(r\"Neccesary Data-Files/newdata.csv\")\n",
    "data2=pd.read_csv(r\"Neccesary Data-Files/state_wise_daily.csv\")\n",
    "data2=data2.loc[data2['Status']=='Confirmed']\n",
    "data2.head(10)"
   ]
  },
  {
   "cell_type": "markdown",
   "metadata": {
    "collapsed": false
   },
   "source": [
    "# https://www.covid19india.org/"
   ]
  },
  {
   "cell_type": "code",
   "execution_count": 9,
   "metadata": {
    "collapsed": false
   },
   "outputs": [
    {
     "data": {
      "image/png": "[encoded data removed]",
      "text/plain": [
       "<Figure size 720x432 with 1 Axes>"
      ]
     },
     "execution_count": 9,
     "metadata": {
     },
     "output_type": "execute_result"
    }
   ],
   "source": [
    "y=data2['TT']\n",
    "x=data2.index\n",
    "x = x.ravel().reshape(-1,1)\n",
    "polynomial_features= PolynomialFeatures(degree=3)\n",
    "xp = polynomial_features.fit_transform(x)\n",
    "model = sm.OLS(y, xp).fit()\n",
    "ypred = model.predict(xp) \n",
    "plt.figure(figsize=(10,6))\n",
    "plt.scatter(x,y)\n",
    "plt.plot(x,ypred,lw=2,color='red')\n",
    "plt.title(\"Infection Rate all over India (14 March - 1 June)\",size=18)\n",
    "plt.xlabel(\"Number of Days\",size=18)\n",
    "plt.ylabel(\"Infected Persons\",size=18)\n",
    "plt.xticks(size=10)\n",
    "plt.yticks(size=10)\n",
    "plt.show()\n",
    "#The Curve is almost exponential :"
   ]
  },
  {
   "cell_type": "code",
   "execution_count": 10,
   "metadata": {
    "collapsed": false
   },
   "outputs": [
    {
     "data": {
      "text/html": [
       "<table class=\"simpletable\">\n",
       "<caption>OLS Regression Results</caption>\n",
       "<tr>\n",
       "  <th>Dep. Variable:</th>           <td>TT</td>        <th>  R-squared:         </th> <td>   0.983</td>\n",
       "</tr>\n",
       "<tr>\n",
       "  <th>Model:</th>                   <td>OLS</td>       <th>  Adj. R-squared:    </th> <td>   0.982</td>\n",
       "</tr>\n",
       "<tr>\n",
       "  <th>Method:</th>             <td>Least Squares</td>  <th>  F-statistic:       </th> <td>   1427.</td>\n",
       "</tr>\n",
       "<tr>\n",
       "  <th>Date:</th>             <td>Thu, 18 Jun 2020</td> <th>  Prob (F-statistic):</th> <td>1.06e-66</td>\n",
       "</tr>\n",
       "<tr>\n",
       "  <th>Time:</th>                 <td>04:50:31</td>     <th>  Log-Likelihood:    </th> <td> -577.28</td>\n",
       "</tr>\n",
       "<tr>\n",
       "  <th>No. Observations:</th>      <td>    80</td>      <th>  AIC:               </th> <td>   1163.</td>\n",
       "</tr>\n",
       "<tr>\n",
       "  <th>Df Residuals:</th>          <td>    76</td>      <th>  BIC:               </th> <td>   1172.</td>\n",
       "</tr>\n",
       "<tr>\n",
       "  <th>Df Model:</th>              <td>     3</td>      <th>                     </th>     <td> </td>   \n",
       "</tr>\n",
       "<tr>\n",
       "  <th>Covariance Type:</th>      <td>nonrobust</td>    <th>                     </th>     <td> </td>   \n",
       "</tr>\n",
       "</table>\n",
       "<table class=\"simpletable\">\n",
       "<tr>\n",
       "    <td></td>       <th>coef</th>     <th>std err</th>      <th>t</th>      <th>P>|t|</th>  <th>[0.025</th>    <th>0.975]</th>  \n",
       "</tr>\n",
       "<tr>\n",
       "  <th>const</th> <td>  -33.8147</td> <td>  144.292</td> <td>   -0.234</td> <td> 0.815</td> <td> -321.197</td> <td>  253.568</td>\n",
       "</tr>\n",
       "<tr>\n",
       "  <th>x1</th>    <td>   16.6545</td> <td>   15.918</td> <td>    1.046</td> <td> 0.299</td> <td>  -15.048</td> <td>   48.357</td>\n",
       "</tr>\n",
       "<tr>\n",
       "  <th>x2</th>    <td>    0.0013</td> <td>    0.470</td> <td>    0.003</td> <td> 0.998</td> <td>   -0.935</td> <td>    0.937</td>\n",
       "</tr>\n",
       "<tr>\n",
       "  <th>x3</th>    <td>    0.0148</td> <td>    0.004</td> <td>    3.798</td> <td> 0.000</td> <td>    0.007</td> <td>    0.023</td>\n",
       "</tr>\n",
       "</table>\n",
       "<table class=\"simpletable\">\n",
       "<tr>\n",
       "  <th>Omnibus:</th>       <td> 5.602</td> <th>  Durbin-Watson:     </th> <td>   1.566</td>\n",
       "</tr>\n",
       "<tr>\n",
       "  <th>Prob(Omnibus):</th> <td> 0.061</td> <th>  Jarque-Bera (JB):  </th> <td>   7.408</td>\n",
       "</tr>\n",
       "<tr>\n",
       "  <th>Skew:</th>          <td>-0.206</td> <th>  Prob(JB):          </th> <td>  0.0246</td>\n",
       "</tr>\n",
       "<tr>\n",
       "  <th>Kurtosis:</th>      <td> 4.433</td> <th>  Cond. No.          </th> <td>7.26e+05</td>\n",
       "</tr>\n",
       "</table><br/><br/>Warnings:<br/>[1] Standard Errors assume that the covariance matrix of the errors is correctly specified.<br/>[2] The condition number is large, 7.26e+05. This might indicate that there are<br/>strong multicollinearity or other numerical problems."
      ],
      "text/plain": [
       "<class 'statsmodels.iolib.summary.Summary'>\n",
       "\"\"\"\n",
       "                            OLS Regression Results                            \n",
       "==============================================================================\n",
       "Dep. Variable:                     TT   R-squared:                       0.983\n",
       "Model:                            OLS   Adj. R-squared:                  0.982\n",
       "Method:                 Least Squares   F-statistic:                     1427.\n",
       "Date:                Thu, 18 Jun 2020   Prob (F-statistic):           1.06e-66\n",
       "Time:                        04:50:31   Log-Likelihood:                -577.28\n",
       "No. Observations:                  80   AIC:                             1163.\n",
       "Df Residuals:                      76   BIC:                             1172.\n",
       "Df Model:                           3                                         \n",
       "Covariance Type:            nonrobust                                         \n",
       "==============================================================================\n",
       "                 coef    std err          t      P>|t|      [0.025      0.975]\n",
       "------------------------------------------------------------------------------\n",
       "const        -33.8147    144.292     -0.234      0.815    -321.197     253.568\n",
       "x1            16.6545     15.918      1.046      0.299     -15.048      48.357\n",
       "x2             0.0013      0.470      0.003      0.998      -0.935       0.937\n",
       "x3             0.0148      0.004      3.798      0.000       0.007       0.023\n",
       "==============================================================================\n",
       "Omnibus:                        5.602   Durbin-Watson:                   1.566\n",
       "Prob(Omnibus):                  0.061   Jarque-Bera (JB):                7.408\n",
       "Skew:                          -0.206   Prob(JB):                       0.0246\n",
       "Kurtosis:                       4.433   Cond. No.                     7.26e+05\n",
       "==============================================================================\n",
       "\n",
       "Warnings:\n",
       "[1] Standard Errors assume that the covariance matrix of the errors is correctly specified.\n",
       "[2] The condition number is large, 7.26e+05. This might indicate that there are\n",
       "strong multicollinearity or other numerical problems.\n",
       "\"\"\""
      ]
     },
     "execution_count": 10,
     "metadata": {
     },
     "output_type": "execute_result"
    }
   ],
   "source": [
    "#The Curve is almost exponential : \n",
    "model.summary()"
   ]
  },
  {
   "cell_type": "markdown",
   "metadata": {
    "collapsed": false
   },
   "source": [
    "## www.thehindu.com/news/national/migrant-labourers-are-the-most-disenfranchised-invisible-citizens/article31717502.ece?\n"
   ]
  },
  {
   "cell_type": "code",
   "execution_count": 11,
   "metadata": {
    "collapsed": false
   },
   "outputs": [
    {
     "data": {
      "text/html": [
       "<div>\n",
       "<style scoped>\n",
       "    .dataframe tbody tr th:only-of-type {\n",
       "        vertical-align: middle;\n",
       "    }\n",
       "\n",
       "    .dataframe tbody tr th {\n",
       "        vertical-align: top;\n",
       "    }\n",
       "\n",
       "    .dataframe thead th {\n",
       "        text-align: right;\n",
       "    }\n",
       "</style>\n",
       "<table border=\"1\" class=\"dataframe\">\n",
       "  <thead>\n",
       "    <tr style=\"text-align: right;\">\n",
       "      <th></th>\n",
       "      <th>Category</th>\n",
       "      <th>Migrants in (Million)</th>\n",
       "    </tr>\n",
       "  </thead>\n",
       "  <tbody>\n",
       "    <tr>\n",
       "      <th>0</th>\n",
       "      <td>Number of Adult workers</td>\n",
       "      <td>135</td>\n",
       "    </tr>\n",
       "    <tr>\n",
       "      <th>1</th>\n",
       "      <td>Child Labour</td>\n",
       "      <td>15</td>\n",
       "    </tr>\n",
       "    <tr>\n",
       "      <th>2</th>\n",
       "      <td>Short_term</td>\n",
       "      <td>80</td>\n",
       "    </tr>\n",
       "    <tr>\n",
       "      <th>3</th>\n",
       "      <td>Construction_industry</td>\n",
       "      <td>40</td>\n",
       "    </tr>\n",
       "    <tr>\n",
       "      <th>4</th>\n",
       "      <td>Domestic workers</td>\n",
       "      <td>20</td>\n",
       "    </tr>\n",
       "    <tr>\n",
       "      <th>5</th>\n",
       "      <td>Sex workers</td>\n",
       "      <td>7</td>\n",
       "    </tr>\n",
       "    <tr>\n",
       "      <th>6</th>\n",
       "      <td>Illegal Mines</td>\n",
       "      <td>12</td>\n",
       "    </tr>\n",
       "    <tr>\n",
       "      <th>7</th>\n",
       "      <td>Some_other_sectors</td>\n",
       "      <td>141</td>\n",
       "    </tr>\n",
       "    <tr>\n",
       "      <th>8</th>\n",
       "      <td>Total Migrants India</td>\n",
       "      <td>450</td>\n",
       "    </tr>\n",
       "  </tbody>\n",
       "</table>\n",
       "</div>"
      ],
      "text/plain": [
       "                  Category  Migrants in (Million)\n",
       "0  Number of Adult workers                    135\n",
       "1             Child Labour                     15\n",
       "2               Short_term                     80\n",
       "3    Construction_industry                     40\n",
       "4         Domestic workers                     20\n",
       "5              Sex workers                      7\n",
       "6            Illegal Mines                     12\n",
       "7       Some_other_sectors                    141\n",
       "8     Total Migrants India                    450"
      ]
     },
     "execution_count": 11,
     "metadata": {
     },
     "output_type": "execute_result"
    }
   ],
   "source": [
    "summary=pd.DataFrame()\n",
    "summary['Category']=['Number of Adult workers','Child Labour','Short_term','Construction_industry','Domestic workers','Sex workers','Illegal Mines','Some_other_sectors','Total Migrants India'] \n",
    "summary['Migrants in (Million)']=[135,15,80,40,20,7,12,141,450]\n",
    "\n",
    "\n",
    "summary"
   ]
  },
  {
   "cell_type": "code",
   "execution_count": 0,
   "metadata": {
    "collapsed": false
   },
   "outputs": [
   ],
   "source": [
   ]
  },
  {
   "cell_type": "code",
   "execution_count": 0,
   "metadata": {
    "collapsed": false
   },
   "outputs": [
   ],
   "source": [
   ]
  },
  {
   "cell_type": "code",
   "execution_count": 0,
   "metadata": {
    "collapsed": false
   },
   "outputs": [
   ],
   "source": [
   ]
  },
  {
   "cell_type": "markdown",
   "metadata": {
    "collapsed": false
   },
   "source": [
    "### <span style='background :lemonchiffon'><span style='font-family:\"Times New Roman\"'>FOOD EXPENSES PER ADULT\n",
    "### <span style='font-family:\"Times New Roman\"'>Average Diet of a person per day : 2200 calories\n",
    "### <span style='font-family:\"Times New Roman\"'>Average calory needed per adult to survive : 1100 calories\n",
    "### <span style='background :wheat'><span style='font-family:\"Times New Roman\"'>cost as per FCI(Food Corporation Of India, taken as avg for all categories (APL,BPL,AAY,NFSA,etc..)\n",
    "### <span style='font-family:\"Times New Roman\"'>350 gm rice-> 475 calories when cooked (cost:15₹/Kg->4.5₹) \n",
    "### <span style='font-family:\"Times New Roman\"'>250 gm moong dal-> 360 calories when cooked  (cost:40₹/Kg->8₹)\n",
    "### <span style='font-family:\"Times New Roman\"'>fruits-> 2 banana-> 210 calories (cost:4.75₹) \n",
    "### <span style='font-family:\"Times New Roman\"'>150 gm flour -> 555 calories (cost: 19.25₹/Kg->2.88₹)\n",
    "### <span style='font-family:\"Times New Roman\"'>Other Various products -> 500 calories (5₹)\n",
    "### <span style='font-family:\"Times New Roman\"'>Total Calories fulfilled-> 2100 calories  \n",
    "### <span style='font-family:\"Times New Roman\"'>Total cost per adult -> 25.13₹+additional expenses (approax) : 30₹ "
   ]
  },
  {
   "cell_type": "markdown",
   "metadata": {
    "collapsed": false
   },
   "source": [
    "# <span style='background :lemonchiffon'><span style='font-family:\"Times New Roman\"'>Constraint: 100 days</span>"
   ]
  },
  {
   "cell_type": "code",
   "execution_count": 12,
   "metadata": {
    "collapsed": false
   },
   "outputs": [
   ],
   "source": [
    "Total_Food_Supply_Cost= 450*(10**6)*100*30\n",
    "Total_Food_Supply_Cost='1350 Billion'"
   ]
  },
  {
   "cell_type": "markdown",
   "metadata": {
    "collapsed": false
   },
   "source": [
    "# <span style='background :beige'><span style='font-family:\"Times New Roman\"'>Estimating Food Supply Cost:</span>\n",
    "## <span style='font-family:\"Times New Roman\"'>1350 Billion</span>"
   ]
  },
  {
   "cell_type": "markdown",
   "metadata": {
    "collapsed": false
   },
   "source": [
    "## <span style='background :wheat'><span style='font-family:\"Times New Roman\"'>A Covid-19 test requires:</span>          \n",
    "<ol>\n",
    "<li>Viral transmission medium used for transport of swabs.</li>\n",
    "<li>An RNA extraction kit that isolates the single-stranded RNA, the genetic material, from the sample.</li>\n",
    "<li>An RT-PCR kit that detects the presence of the virus’s genetic code in a sample</li>\n",
    "<li>Reagents—each kit has multiple such compounds that can be used repeatedly based on pack size, say for 100 reactions or 500 reactions.</li>\n",
    "<li>Personal protection equipment kit, labware such as PCR-tubes, plates, pipettes and tips, centrifuge; machines to run the tests, and technicians to conduct the tests.</li>\n",
    "</ol>"
   ]
  },
  {
   "cell_type": "markdown",
   "metadata": {
    "collapsed": false
   },
   "source": [
    "## <span style='background :wheat'><span style='font-family:\"Times New Roman\"'> Medical Kit per person to check covid19 Disease</span>         \n",
    "<ol>\n",
    "<li>testing_price=1500₹</li>\n",
    "<li>screening_price=3000₹\n",
    "</li>\n",
    "</ol>"
   ]
  },
  {
   "cell_type": "code",
   "execution_count": 0,
   "metadata": {
    "collapsed": false
   },
   "outputs": [
   ],
   "source": [
   ]
  },
  {
   "cell_type": "code",
   "execution_count": 0,
   "metadata": {
    "collapsed": false
   },
   "outputs": [
   ],
   "source": [
   ]
  },
  {
   "cell_type": "markdown",
   "metadata": {
    "collapsed": false
   },
   "source": [
    "## <span style='font-family:\"Times New Roman\"'>Cost of Medical Supply for 100 DAYS would be Infection_Rate*3000 + 1500*Number of Migrants</span>"
   ]
  },
  {
   "cell_type": "code",
   "execution_count": 14,
   "metadata": {
    "collapsed": false
   },
   "outputs": [
    {
     "data": {
      "image/png": "[encoded data removed]",
      "text/plain": [
       "<Figure size 648x360 with 1 Axes>"
      ]
     },
     "execution_count": 14,
     "metadata": {
     },
     "output_type": "execute_result"
    }
   ],
   "source": [
    "#Graph of Medical Cost for 100 Days\n",
    "polynomial_features= PolynomialFeatures(degree=3)\n",
    "xp = polynomial_features.fit_transform(x)\n",
    "model = sm.OLS(y, xp).fit()\n",
    "ypred = model.predict(xp) \n",
    "plt.figure(figsize=(9,5))\n",
    "plt.plot(x,(ypred*3000 + 1500*450*(10**6)),lw=3,color='red')\n",
    "plt.title(\"Medical Expanses for 100 Days\",size=18)\n",
    "plt.xlabel(\"Number of Days\",size=18)\n",
    "plt.ylabel(\"Medical Cost (INR)\",size=18)\n",
    "plt.xticks(size=12)\n",
    "plt.yticks(size=12)\n",
    "plt.show()\n",
    "#The Curve is almost exponential "
   ]
  }
 ],
 "metadata": {
  "kernelspec": {
   "display_name": "anaconda_kernel",
   "language": "python",
   "name": "anaconda_kernel"
  },
  "language_info": {
   "codemirror_mode": {
    "name": "ipython",
    "version": 2
   },
   "file_extension": ".py",
   "mimetype": "text/x-python",
   "name": "python",
   "nbconvert_exporter": "python",
   "pygments_lexer": "ipython2",
   "version": "2.7.17"
  }
 },
 "nbformat": 4,
 "nbformat_minor": 0
}