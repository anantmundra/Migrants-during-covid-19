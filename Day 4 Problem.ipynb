{
 "cells": [
  {
   "cell_type": "markdown",
   "metadata": {
    "collapsed": false
   },
   "source": [
    "# <span style='background :beige'><span style='font-family:\"Times New Roman\"'>Selection of technology for transfer, storage and transacting?Security, fraud prevention, counterfeiting, disintermediation.</span>"
   ]
  },
  {
   "cell_type": "markdown",
   "metadata": {
    "collapsed": false
   },
   "source": [
    "## <span style='background :bisque'><span style='font-family:\"Times New Roman\"'>Importing Necessary Libraries</span>"
   ]
  },
  {
   "cell_type": "code",
   "execution_count": 1,
   "metadata": {
    "collapsed": false
   },
   "outputs": [
   ],
   "source": [
    "import random\n",
    "import pandas as pd\n",
    "import matplotlib.pyplot as plt\n",
    "import seaborn as sns \n",
    "sns.set()"
   ]
  },
  {
   "cell_type": "markdown",
   "metadata": {
    "collapsed": false
   },
   "source": [
    "![](ptm.png)"
   ]
  },
  {
   "cell_type": "markdown",
   "metadata": {
    "collapsed": false
   },
   "source": [
    "## <span style='background :bisque'><span style='font-family:\"Times New Roman\"'>Step By Step Instructions: Creation of Paytm-Wallet</span>"
   ]
  },
  {
   "cell_type": "markdown",
   "metadata": {
    "collapsed": false
   },
   "source": [
    "## <span style='background :wheat'><span style='font-family:\"Times New Roman\"'>Step 1: Download Paytm</span>"
   ]
  },
  {
   "cell_type": "code",
   "execution_count": 2,
   "metadata": {
    "cocalc": {
     "outputs": {
      "1": {
       "name": "input",
       "opts": {
        "password": false,
        "prompt": ""
       },
       "output_type": "stream",
       "value": "1"
      }
     }
    },
    "collapsed": false
   },
   "outputs": [
    {
     "name": "stdout",
     "output_type": "stream",
     "text": [
      "Press 1 for Andorid  User\n",
      "Press 2 for iOS User\n"
     ]
    },
    {
     "name": "stdout",
     "output_type": "stream",
     "text": " 1"
    },
    {
     "name": "stdout",
     "output_type": "stream",
     "text": [
      "https://play.google.com/store/apps/details?id=net.one97.paytm\n"
     ]
    }
   ],
   "source": [
    "print(\"Press 1 for Andorid  User\")\n",
    "print(\"Press 2 for iOS User\")\n",
    "n=int(input())\n",
    "if(n!=1 and n!=2):\n",
    "    print(\"Invalid\")\n",
    "if(n==1):\n",
    "    print(\"https://play.google.com/store/apps/details?id=net.one97.paytm\")\n",
    "if(n==2):\n",
    "    print(\"https://apps.apple.com/in/app/paytm-payments-bank-account/id473941634\")"
   ]
  },
  {
   "cell_type": "markdown",
   "metadata": {
    "collapsed": false
   },
   "source": [
    "## <span style='background :wheat'><span style='font-family:\"Times New Roman\"'>Step 2: Identity Verification through Aadhar linked with Mobile Number</span>\n"
   ]
  },
  {
   "cell_type": "code",
   "execution_count": 6,
   "metadata": {
    "cocalc": {
     "outputs": {
      "1": {
       "name": "input",
       "opts": {
        "password": false,
        "prompt": ""
       },
       "output_type": "stream",
       "value": "391792568417"
      }
     }
    },
    "collapsed": false
   },
   "outputs": [
    {
     "name": "stdout",
     "output_type": "stream",
     "text": [
      "Enter your Aadhar Card Number\n"
     ]
    },
    {
     "name": "stdout",
     "output_type": "stream",
     "text": " 391792568417"
    },
    {
     "name": "stdout",
     "output_type": "stream",
     "text": [
      "()\n",
      "OTP sent to you Registered Mobile Number...\n",
      "Enter the OTP to verify your Identity\n"
     ]
    }
   ],
   "source": [
    "print(\"Enter your Aadhar Card Number\")\n",
    "ans=str(input())\n",
    "print()\n",
    "if(len(ans)!=12):\n",
    "    print('Aadhar not valid')\n",
    "else:\n",
    "    print('OTP sent to you Registered Mobile Number...')\n",
    "    print('Enter the OTP to verify your Identity')"
   ]
  },
  {
   "cell_type": "markdown",
   "metadata": {
    "collapsed": false
   },
   "source": [
    "![](aadhar.png)\n",
    "![](otp.png)"
   ]
  },
  {
   "cell_type": "markdown",
   "metadata": {
    "collapsed": false
   },
   "source": [
    "## <span style='background :wheat'><span style='font-family:\"Times New Roman\"'>Step 3: Generate Account Number and Upi </span>"
   ]
  },
  {
   "cell_type": "code",
   "execution_count": 7,
   "metadata": {
    "collapsed": false
   },
   "outputs": [
    {
     "name": "stdout",
     "output_type": "stream",
     "text": [
      "Your Account No: 5782403367\n",
      "    Your Upi Id: 8002838351@paytm\n"
     ]
    }
   ],
   "source": [
    "x=random.randrange(1000000000,9999999999)\n",
    "y=random.randrange(7000000000,9999999999)\n",
    "print(\"Your Account No: \"+str(x))\n",
    "print(\"    Your Upi Id: \"+str(y)+\"@paytm\")"
   ]
  },
  {
   "cell_type": "markdown",
   "metadata": {
    "collapsed": false
   },
   "source": [
    "![](upi.png)"
   ]
  },
  {
   "cell_type": "markdown",
   "metadata": {
    "collapsed": false
   },
   "source": [
    "## <span style='font-family:\"Times New Roman\"'>Acknowledgement Sent to RBI</span>"
   ]
  },
  {
   "cell_type": "markdown",
   "metadata": {
    "collapsed": false
   },
   "source": [
    "![](rblog.png)"
   ]
  },
  {
   "cell_type": "code",
   "execution_count": 0,
   "metadata": {
    "collapsed": false
   },
   "outputs": [
   ],
   "source": [
   ]
  },
  {
   "cell_type": "code",
   "execution_count": 8,
   "metadata": {
    "collapsed": false
   },
   "outputs": [
    {
     "name": "stdout",
     "output_type": "stream",
     "text": [
      "RBI records Aadhar Number \n",
      "Information added to their Distributed ledger technology (DLT)\n"
     ]
    }
   ],
   "source": [
    "print(\"RBI records Aadhar Number \")\n",
    "print(\"Information added to their Distributed ledger technology (DLT)\")"
   ]
  },
  {
   "cell_type": "markdown",
   "metadata": {
    "collapsed": false
   },
   "source": [
    "![](dltrbi.png)"
   ]
  },
  {
   "cell_type": "markdown",
   "metadata": {
    "collapsed": false
   },
   "source": [
    "## <span style='background :wheat'><span style='font-family:\"Times New Roman\"'>Transaction</span>"
   ]
  },
  {
   "cell_type": "code",
   "execution_count": 9,
   "metadata": {
    "collapsed": false
   },
   "outputs": [
    {
     "name": "stdout",
     "output_type": "stream",
     "text": [
      "('Account Balance: ', '1740.65')\n"
     ]
    }
   ],
   "source": [
    "q=random.uniform(1000,9999)\n",
    "w = \"{:.2f}\".format(q)\n",
    "print(\"Account Balance: \",w)"
   ]
  },
  {
   "cell_type": "markdown",
   "metadata": {
    "collapsed": false
   },
   "source": [
    "![](trans.png)"
   ]
  }
 ],
 "metadata": {
  "kernelspec": {
   "display_name": "anaconda_kernel",
   "language": "python",
   "name": "anaconda_kernel"
  },
  "language_info": {
   "codemirror_mode": {
    "name": "ipython",
    "version": 2
   },
   "file_extension": ".py",
   "mimetype": "text/x-python",
   "name": "python",
   "nbconvert_exporter": "python",
   "pygments_lexer": "ipython2",
   "version": "2.7.17"
  }
 },
 "nbformat": 4,
 "nbformat_minor": 0
}